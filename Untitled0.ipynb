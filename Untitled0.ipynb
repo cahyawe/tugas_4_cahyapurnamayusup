{
  "nbformat": 4,
  "nbformat_minor": 0,
  "metadata": {
    "colab": {
      "provenance": []
    },
    "kernelspec": {
      "name": "python3",
      "display_name": "Python 3"
    },
    "language_info": {
      "name": "python"
    }
  },
  "cells": [
    {
      "cell_type": "code",
      "execution_count": null,
      "metadata": {
        "id": "VbV8dT0RUBGj"
      },
      "outputs": [],
      "source": []
    },
    {
      "cell_type": "markdown",
      "source": [
        "# cahya purnama yusup\n",
        "# 2106025\n",
        "# teknik informatika A "
      ],
      "metadata": {
        "id": "yYzoD_9AUB9n"
      }
    },
    {
      "cell_type": "code",
      "source": [
        "lakilaki(david).\n",
        "lakilaki(john).\n",
        "lakilaki(jack).\n",
        "lakilaki(peter).\n",
        "lakilaki(ray).\n",
        "perempuan(amy).\n",
        "perempuan(karen).\n",
        "perempuan(susan).\n",
        "perempuan(liza).\n",
        "perempuan(mary).\n",
        "\n",
        "pasangan(david,amy).\n",
        "pasangan(jack,karen).\n",
        "pasangan(john,susan).\n",
        "\n",
        "sodara(liza,john).\n",
        "sodara(susan,ray).\n",
        "sodara(peter,mary).\n",
        "\n",
        "kakek(david,jack).\n",
        "nenek(amy,karen).\n",
        "anakP(liza,susan).\n",
        "anakL(john,ray).\n",
        "cucu(peter,mary).\n",
        "\n",
        "is_lakilaki(X) :- lakilaki(X).\n",
        "is_perempuan(Y) :- perempuan(Y).\n",
        "is_pasangan(X,Y) :- pasangan(X,Y).\n",
        "is_anakPerempuan(X,Y) :- anakP(X,Y).\n",
        "is_anakLakilaki(X,Y) :- anakL(X,Y).\n",
        "is_sodara(X,Y) :- sodara(X,Y).\n",
        "is_kakek(X1,X2) :- kakek(X2,X1).\n",
        "is_nenek(Y2,Y1) :- nenek(Y1,Y2).\n",
        "not(sah(menikah(X,Y))) :- is_sodara(X,Y).\n",
        "sah(menikah(X,Y)) :- is_pasangan(X,Y)."
      ],
      "metadata": {
        "id": "_88plvnqWxHg"
      },
      "execution_count": null,
      "outputs": []
    }
  ]
}